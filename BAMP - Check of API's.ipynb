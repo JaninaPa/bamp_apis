{
 "cells": [
  {
   "cell_type": "markdown",
   "id": "4a237095",
   "metadata": {},
   "source": [
    "## Import libraries"
   ]
  },
  {
   "cell_type": "code",
   "execution_count": 43,
   "id": "23df32d1",
   "metadata": {},
   "outputs": [],
   "source": [
    "from shutil import which\n",
    "from selenium.webdriver.common.keys import Keys\n",
    "from selenium.webdriver.chrome.options import Options\n",
    "from selenium.common.exceptions import NoSuchElementException, ElementClickInterceptedException, ElementNotInteractableException\n",
    "\n",
    "from selenium import webdriver\n",
    "import time\n",
    "import pandas as pd\n",
    "import os\n",
    "import time\n",
    "import requests\n",
    "import numpy as np\n",
    "import pandas as pd\n",
    "import math\n",
    "\n",
    "from bs4 import BeautifulSoup\n",
    "from urllib.request import Request, urlopen"
   ]
  },
  {
   "cell_type": "markdown",
   "id": "0f5a1868",
   "metadata": {},
   "source": [
    "### Glassdoor API"
   ]
  },
  {
   "cell_type": "markdown",
   "id": "fa2cdccc",
   "metadata": {},
   "source": [
    "There is no API for jobs and reviews, but scraping is possible with Python libraries like Selenium or BeautifulSoup."
   ]
  },
  {
   "cell_type": "code",
   "execution_count": 30,
   "id": "cceda958",
   "metadata": {},
   "outputs": [
    {
     "data": {
      "text/html": [
       "<div>\n",
       "<style scoped>\n",
       "    .dataframe tbody tr th:only-of-type {\n",
       "        vertical-align: middle;\n",
       "    }\n",
       "\n",
       "    .dataframe tbody tr th {\n",
       "        vertical-align: top;\n",
       "    }\n",
       "\n",
       "    .dataframe thead th {\n",
       "        text-align: right;\n",
       "    }\n",
       "</style>\n",
       "<table border=\"1\" class=\"dataframe\">\n",
       "  <thead>\n",
       "    <tr style=\"text-align: right;\">\n",
       "      <th></th>\n",
       "      <th>companyName</th>\n",
       "      <th>company_starRating</th>\n",
       "      <th>company_offeredRole</th>\n",
       "      <th>company_roleLocation</th>\n",
       "      <th>listing_jobDesc</th>\n",
       "      <th>requested_url</th>\n",
       "    </tr>\n",
       "  </thead>\n",
       "  <tbody>\n",
       "    <tr>\n",
       "      <th>0</th>\n",
       "      <td>Mastercard</td>\n",
       "      <td>4.3</td>\n",
       "      <td>Software Engineer</td>\n",
       "      <td>Singapore</td>\n",
       "      <td>Are you passionate about software engineering?...</td>\n",
       "      <td>https://www.glassdoor.com/partner/jobListing.h...</td>\n",
       "    </tr>\n",
       "    <tr>\n",
       "      <th>1</th>\n",
       "      <td>Dyson</td>\n",
       "      <td>3.1</td>\n",
       "      <td>Software Engineer</td>\n",
       "      <td>Singapore</td>\n",
       "      <td>\\nDevelop and maintain real time embedded soft...</td>\n",
       "      <td>https://www.glassdoor.com/partner/jobListing.h...</td>\n",
       "    </tr>\n",
       "    <tr>\n",
       "      <th>2</th>\n",
       "      <td>Shopee</td>\n",
       "      <td>3.8</td>\n",
       "      <td>Frontend Software Engineer - Marketplace</td>\n",
       "      <td>Singapore</td>\n",
       "      <td>\\nTake ownership of various business features ...</td>\n",
       "      <td>https://www.glassdoor.com/partner/jobListing.h...</td>\n",
       "    </tr>\n",
       "    <tr>\n",
       "      <th>3</th>\n",
       "      <td>Superstar Teacher Pte Ltd</td>\n",
       "      <td>NaN</td>\n",
       "      <td>Assistant Software Engineer / Software Engineer</td>\n",
       "      <td>Singapore</td>\n",
       "      <td>\\nWrite, modify, and debug web applications us...</td>\n",
       "      <td>https://www.glassdoor.com/partner/jobListing.h...</td>\n",
       "    </tr>\n",
       "    <tr>\n",
       "      <th>4</th>\n",
       "      <td>NTUC ENTERPRISE NEXUS CO-OPERATIVE LIMITED</td>\n",
       "      <td>3.3</td>\n",
       "      <td>Software Engineer</td>\n",
       "      <td>Singapore</td>\n",
       "      <td>4 years of professional experience. Strong hol...</td>\n",
       "      <td>https://www.glassdoor.com/partner/jobListing.h...</td>\n",
       "    </tr>\n",
       "    <tr>\n",
       "      <th>5</th>\n",
       "      <td>SEARCH INDEX PTE. LTD.</td>\n",
       "      <td>5.0</td>\n",
       "      <td>Software Engineer (Entry Level Welcome / MNC)</td>\n",
       "      <td>Singapore</td>\n",
       "      <td>Responsible for Software Development Life Cycl...</td>\n",
       "      <td>https://www.glassdoor.com/partner/jobListing.h...</td>\n",
       "    </tr>\n",
       "    <tr>\n",
       "      <th>6</th>\n",
       "      <td>HASHSTACS PTE. LTD.</td>\n",
       "      <td>4.1</td>\n",
       "      <td>Frontend Software Engineer (Remote)</td>\n",
       "      <td>Singapore</td>\n",
       "      <td>B.S. or M.S. in Computer Science or equivalent...</td>\n",
       "      <td>https://www.glassdoor.com/partner/jobListing.h...</td>\n",
       "    </tr>\n",
       "    <tr>\n",
       "      <th>7</th>\n",
       "      <td>NCS</td>\n",
       "      <td>3.8</td>\n",
       "      <td>Software Engineer</td>\n",
       "      <td>Singapore</td>\n",
       "      <td>Partner with stakeholders to understand busine...</td>\n",
       "      <td>https://www.glassdoor.com/partner/jobListing.h...</td>\n",
       "    </tr>\n",
       "    <tr>\n",
       "      <th>8</th>\n",
       "      <td>Rolls-Royce</td>\n",
       "      <td>4.0</td>\n",
       "      <td>Software Engineer (Python/SQL)</td>\n",
       "      <td>Singapore</td>\n",
       "      <td>\\nWorking with colleagues to understand and im...</td>\n",
       "      <td>https://www.glassdoor.com/partner/jobListing.h...</td>\n",
       "    </tr>\n",
       "    <tr>\n",
       "      <th>9</th>\n",
       "      <td>Anotech Singapore</td>\n",
       "      <td>3.9</td>\n",
       "      <td>Software Test Engineer (Junior)</td>\n",
       "      <td>Singapore</td>\n",
       "      <td>Monday to Friday</td>\n",
       "      <td>https://www.glassdoor.com/partner/jobListing.h...</td>\n",
       "    </tr>\n",
       "  </tbody>\n",
       "</table>\n",
       "</div>"
      ],
      "text/plain": [
       "                                  companyName  company_starRating  \\\n",
       "0                                  Mastercard                 4.3   \n",
       "1                                       Dyson                 3.1   \n",
       "2                                      Shopee                 3.8   \n",
       "3                   Superstar Teacher Pte Ltd                 NaN   \n",
       "4  NTUC ENTERPRISE NEXUS CO-OPERATIVE LIMITED                 3.3   \n",
       "5                      SEARCH INDEX PTE. LTD.                 5.0   \n",
       "6                         HASHSTACS PTE. LTD.                 4.1   \n",
       "7                                         NCS                 3.8   \n",
       "8                                 Rolls-Royce                 4.0   \n",
       "9                           Anotech Singapore                 3.9   \n",
       "\n",
       "                               company_offeredRole company_roleLocation  \\\n",
       "0                                Software Engineer            Singapore   \n",
       "1                                Software Engineer            Singapore   \n",
       "2         Frontend Software Engineer - Marketplace            Singapore   \n",
       "3  Assistant Software Engineer / Software Engineer            Singapore   \n",
       "4                                Software Engineer            Singapore   \n",
       "5    Software Engineer (Entry Level Welcome / MNC)            Singapore   \n",
       "6              Frontend Software Engineer (Remote)            Singapore   \n",
       "7                                Software Engineer            Singapore   \n",
       "8                   Software Engineer (Python/SQL)            Singapore   \n",
       "9                  Software Test Engineer (Junior)            Singapore   \n",
       "\n",
       "                                     listing_jobDesc  \\\n",
       "0  Are you passionate about software engineering?...   \n",
       "1  \\nDevelop and maintain real time embedded soft...   \n",
       "2  \\nTake ownership of various business features ...   \n",
       "3  \\nWrite, modify, and debug web applications us...   \n",
       "4  4 years of professional experience. Strong hol...   \n",
       "5  Responsible for Software Development Life Cycl...   \n",
       "6  B.S. or M.S. in Computer Science or equivalent...   \n",
       "7  Partner with stakeholders to understand busine...   \n",
       "8  \\nWorking with colleagues to understand and im...   \n",
       "9                                   Monday to Friday   \n",
       "\n",
       "                                       requested_url  \n",
       "0  https://www.glassdoor.com/partner/jobListing.h...  \n",
       "1  https://www.glassdoor.com/partner/jobListing.h...  \n",
       "2  https://www.glassdoor.com/partner/jobListing.h...  \n",
       "3  https://www.glassdoor.com/partner/jobListing.h...  \n",
       "4  https://www.glassdoor.com/partner/jobListing.h...  \n",
       "5  https://www.glassdoor.com/partner/jobListing.h...  \n",
       "6  https://www.glassdoor.com/partner/jobListing.h...  \n",
       "7  https://www.glassdoor.com/partner/jobListing.h...  \n",
       "8  https://www.glassdoor.com/partner/jobListing.h...  \n",
       "9  https://www.glassdoor.com/partner/jobListing.h...  "
      ]
     },
     "execution_count": 30,
     "metadata": {},
     "output_type": "execute_result"
    }
   ],
   "source": [
    "# Scraper based on https://github.com/kelvinxuande/glassdoor-scraper.git\n",
    "scraper1_output = pd.read_csv(r\"C:\\Users\\Phillip\\dschenaina\\glassdoor-scraper\\src\\output\\output_11-09-2022.csv\",encoding =\"ISO-8859-1\", delimiter = \",\")\n",
    "scraper1_output.head(10)"
   ]
  },
  {
   "cell_type": "code",
   "execution_count": 53,
   "id": "b491fc1a",
   "metadata": {},
   "outputs": [
    {
     "name": "stderr",
     "output_type": "stream",
     "text": [
      "C:\\Users\\Phillip\\AppData\\Local\\Temp\\ipykernel_18076\\20735192.py:7: DeprecationWarning: executable_path has been deprecated, please pass in a Service object\n",
      "  driver = webdriver.Chrome(executable_path=chrome_path, options=options)\n"
     ]
    },
    {
     "ename": "ElementClickInterceptedException",
     "evalue": "Message: element click intercepted: Element <div class=\"css-t3xrds e856ufb2\">...</div> is not clickable at point (1203, 262). Other element would receive the click: <div class=\"css-dufhjo e1tk4kwz0\">...</div>\n  (Session info: chrome=105.0.5195.102)\nStacktrace:\nBacktrace:\n\tOrdinal0 [0x0109DF13+2219795]\n\tOrdinal0 [0x01032841+1779777]\n\tOrdinal0 [0x00F4423D+803389]\n\tOrdinal0 [0x00F799D4+1022420]\n\tOrdinal0 [0x00F778C4+1013956]\n\tOrdinal0 [0x00F754AB+1004715]\n\tOrdinal0 [0x00F74117+999703]\n\tOrdinal0 [0x00F69B76+957302]\n\tOrdinal0 [0x00F8E7FC+1107964]\n\tOrdinal0 [0x00F694B4+955572]\n\tOrdinal0 [0x00F8EA14+1108500]\n\tOrdinal0 [0x00F9F192+1175954]\n\tOrdinal0 [0x00F8E616+1107478]\n\tOrdinal0 [0x00F67F89+950153]\n\tOrdinal0 [0x00F68F56+954198]\n\tGetHandleVerifier [0x01392CB2+3040210]\n\tGetHandleVerifier [0x01382BB4+2974420]\n\tGetHandleVerifier [0x01136A0A+565546]\n\tGetHandleVerifier [0x01135680+560544]\n\tOrdinal0 [0x01039A5C+1808988]\n\tOrdinal0 [0x0103E3A8+1827752]\n\tOrdinal0 [0x0103E495+1827989]\n\tOrdinal0 [0x010480A4+1867940]\n\tBaseThreadInitThunk [0x771EFA29+25]\n\tRtlGetAppContainerNamedObjectPath [0x77657A9E+286]\n\tRtlGetAppContainerNamedObjectPath [0x77657A6E+238]\n",
     "output_type": "error",
     "traceback": [
      "\u001b[1;31m---------------------------------------------------------------------------\u001b[0m",
      "\u001b[1;31mElementClickInterceptedException\u001b[0m          Traceback (most recent call last)",
      "Cell \u001b[1;32mIn [53], line 156\u001b[0m\n\u001b[0;32m    153\u001b[0m     df\u001b[38;5;241m.\u001b[39mhead(\u001b[38;5;241m10\u001b[39m)\n\u001b[0;32m    154\u001b[0m     df\u001b[38;5;241m.\u001b[39mto_csv(keyword \u001b[38;5;241m+\u001b[39m \u001b[38;5;124m'\u001b[39m\u001b[38;5;124m.csv\u001b[39m\u001b[38;5;124m'\u001b[39m)            \n\u001b[1;32m--> 156\u001b[0m \u001b[43mfetch_jobs\u001b[49m\u001b[43m(\u001b[49m\u001b[38;5;124;43m\"\u001b[39;49m\u001b[38;5;124;43mData Engineer\u001b[39;49m\u001b[38;5;124;43m\"\u001b[39;49m\u001b[43m,\u001b[49m\u001b[43m \u001b[49m\u001b[38;5;241;43m1\u001b[39;49m\u001b[43m)\u001b[49m\n",
      "Cell \u001b[1;32mIn [53], line 53\u001b[0m, in \u001b[0;36mfetch_jobs\u001b[1;34m(keyword, num_pages)\u001b[0m\n\u001b[0;32m     51\u001b[0m \u001b[38;5;66;03m#Expands the Description section by clicking on Show More\u001b[39;00m\n\u001b[0;32m     52\u001b[0m \u001b[38;5;28;01mtry\u001b[39;00m:\n\u001b[1;32m---> 53\u001b[0m     \u001b[43mdriver\u001b[49m\u001b[38;5;241;43m.\u001b[39;49m\u001b[43mfind_element\u001b[49m\u001b[43m(\u001b[49m\u001b[38;5;124;43m\"\u001b[39;49m\u001b[38;5;124;43mxpath\u001b[39;49m\u001b[38;5;124;43m\"\u001b[39;49m\u001b[43m,\u001b[49m\u001b[38;5;124;43m\"\u001b[39;49m\u001b[38;5;124;43m//div[@class=\u001b[39;49m\u001b[38;5;124;43m'\u001b[39;49m\u001b[38;5;124;43mcss-t3xrds e856ufb2\u001b[39;49m\u001b[38;5;124;43m'\u001b[39;49m\u001b[38;5;124;43m]\u001b[39;49m\u001b[38;5;124;43m\"\u001b[39;49m\u001b[43m)\u001b[49m\u001b[38;5;241;43m.\u001b[39;49m\u001b[43mclick\u001b[49m\u001b[43m(\u001b[49m\u001b[43m)\u001b[49m\n\u001b[0;32m     54\u001b[0m     time\u001b[38;5;241m.\u001b[39msleep(\u001b[38;5;241m1\u001b[39m)\n\u001b[0;32m     55\u001b[0m \u001b[38;5;28;01mexcept\u001b[39;00m NoSuchElementException:\n",
      "File \u001b[1;32m~\\dschenaina\\venv\\lib\\site-packages\\selenium\\webdriver\\remote\\webelement.py:88\u001b[0m, in \u001b[0;36mWebElement.click\u001b[1;34m(self)\u001b[0m\n\u001b[0;32m     86\u001b[0m \u001b[38;5;28;01mdef\u001b[39;00m \u001b[38;5;21mclick\u001b[39m(\u001b[38;5;28mself\u001b[39m) \u001b[38;5;241m-\u001b[39m\u001b[38;5;241m>\u001b[39m \u001b[38;5;28;01mNone\u001b[39;00m:\n\u001b[0;32m     87\u001b[0m     \u001b[38;5;124;03m\"\"\"Clicks the element.\"\"\"\u001b[39;00m\n\u001b[1;32m---> 88\u001b[0m     \u001b[38;5;28;43mself\u001b[39;49m\u001b[38;5;241;43m.\u001b[39;49m\u001b[43m_execute\u001b[49m\u001b[43m(\u001b[49m\u001b[43mCommand\u001b[49m\u001b[38;5;241;43m.\u001b[39;49m\u001b[43mCLICK_ELEMENT\u001b[49m\u001b[43m)\u001b[49m\n",
      "File \u001b[1;32m~\\dschenaina\\venv\\lib\\site-packages\\selenium\\webdriver\\remote\\webelement.py:396\u001b[0m, in \u001b[0;36mWebElement._execute\u001b[1;34m(self, command, params)\u001b[0m\n\u001b[0;32m    394\u001b[0m     params \u001b[38;5;241m=\u001b[39m {}\n\u001b[0;32m    395\u001b[0m params[\u001b[38;5;124m'\u001b[39m\u001b[38;5;124mid\u001b[39m\u001b[38;5;124m'\u001b[39m] \u001b[38;5;241m=\u001b[39m \u001b[38;5;28mself\u001b[39m\u001b[38;5;241m.\u001b[39m_id\n\u001b[1;32m--> 396\u001b[0m \u001b[38;5;28;01mreturn\u001b[39;00m \u001b[38;5;28;43mself\u001b[39;49m\u001b[38;5;241;43m.\u001b[39;49m\u001b[43m_parent\u001b[49m\u001b[38;5;241;43m.\u001b[39;49m\u001b[43mexecute\u001b[49m\u001b[43m(\u001b[49m\u001b[43mcommand\u001b[49m\u001b[43m,\u001b[49m\u001b[43m \u001b[49m\u001b[43mparams\u001b[49m\u001b[43m)\u001b[49m\n",
      "File \u001b[1;32m~\\dschenaina\\venv\\lib\\site-packages\\selenium\\webdriver\\remote\\webdriver.py:428\u001b[0m, in \u001b[0;36mWebDriver.execute\u001b[1;34m(self, driver_command, params)\u001b[0m\n\u001b[0;32m    426\u001b[0m response \u001b[38;5;241m=\u001b[39m \u001b[38;5;28mself\u001b[39m\u001b[38;5;241m.\u001b[39mcommand_executor\u001b[38;5;241m.\u001b[39mexecute(driver_command, params)\n\u001b[0;32m    427\u001b[0m \u001b[38;5;28;01mif\u001b[39;00m response:\n\u001b[1;32m--> 428\u001b[0m     \u001b[38;5;28;43mself\u001b[39;49m\u001b[38;5;241;43m.\u001b[39;49m\u001b[43merror_handler\u001b[49m\u001b[38;5;241;43m.\u001b[39;49m\u001b[43mcheck_response\u001b[49m\u001b[43m(\u001b[49m\u001b[43mresponse\u001b[49m\u001b[43m)\u001b[49m\n\u001b[0;32m    429\u001b[0m     response[\u001b[38;5;124m'\u001b[39m\u001b[38;5;124mvalue\u001b[39m\u001b[38;5;124m'\u001b[39m] \u001b[38;5;241m=\u001b[39m \u001b[38;5;28mself\u001b[39m\u001b[38;5;241m.\u001b[39m_unwrap_value(\n\u001b[0;32m    430\u001b[0m         response\u001b[38;5;241m.\u001b[39mget(\u001b[38;5;124m'\u001b[39m\u001b[38;5;124mvalue\u001b[39m\u001b[38;5;124m'\u001b[39m, \u001b[38;5;28;01mNone\u001b[39;00m))\n\u001b[0;32m    431\u001b[0m     \u001b[38;5;28;01mreturn\u001b[39;00m response\n",
      "File \u001b[1;32m~\\dschenaina\\venv\\lib\\site-packages\\selenium\\webdriver\\remote\\errorhandler.py:243\u001b[0m, in \u001b[0;36mErrorHandler.check_response\u001b[1;34m(self, response)\u001b[0m\n\u001b[0;32m    241\u001b[0m         alert_text \u001b[38;5;241m=\u001b[39m value[\u001b[38;5;124m'\u001b[39m\u001b[38;5;124malert\u001b[39m\u001b[38;5;124m'\u001b[39m]\u001b[38;5;241m.\u001b[39mget(\u001b[38;5;124m'\u001b[39m\u001b[38;5;124mtext\u001b[39m\u001b[38;5;124m'\u001b[39m)\n\u001b[0;32m    242\u001b[0m     \u001b[38;5;28;01mraise\u001b[39;00m exception_class(message, screen, stacktrace, alert_text)  \u001b[38;5;66;03m# type: ignore[call-arg]  # mypy is not smart enough here\u001b[39;00m\n\u001b[1;32m--> 243\u001b[0m \u001b[38;5;28;01mraise\u001b[39;00m exception_class(message, screen, stacktrace)\n",
      "\u001b[1;31mElementClickInterceptedException\u001b[0m: Message: element click intercepted: Element <div class=\"css-t3xrds e856ufb2\">...</div> is not clickable at point (1203, 262). Other element would receive the click: <div class=\"css-dufhjo e1tk4kwz0\">...</div>\n  (Session info: chrome=105.0.5195.102)\nStacktrace:\nBacktrace:\n\tOrdinal0 [0x0109DF13+2219795]\n\tOrdinal0 [0x01032841+1779777]\n\tOrdinal0 [0x00F4423D+803389]\n\tOrdinal0 [0x00F799D4+1022420]\n\tOrdinal0 [0x00F778C4+1013956]\n\tOrdinal0 [0x00F754AB+1004715]\n\tOrdinal0 [0x00F74117+999703]\n\tOrdinal0 [0x00F69B76+957302]\n\tOrdinal0 [0x00F8E7FC+1107964]\n\tOrdinal0 [0x00F694B4+955572]\n\tOrdinal0 [0x00F8EA14+1108500]\n\tOrdinal0 [0x00F9F192+1175954]\n\tOrdinal0 [0x00F8E616+1107478]\n\tOrdinal0 [0x00F67F89+950153]\n\tOrdinal0 [0x00F68F56+954198]\n\tGetHandleVerifier [0x01392CB2+3040210]\n\tGetHandleVerifier [0x01382BB4+2974420]\n\tGetHandleVerifier [0x01136A0A+565546]\n\tGetHandleVerifier [0x01135680+560544]\n\tOrdinal0 [0x01039A5C+1808988]\n\tOrdinal0 [0x0103E3A8+1827752]\n\tOrdinal0 [0x0103E495+1827989]\n\tOrdinal0 [0x010480A4+1867940]\n\tBaseThreadInitThunk [0x771EFA29+25]\n\tRtlGetAppContainerNamedObjectPath [0x77657A9E+286]\n\tRtlGetAppContainerNamedObjectPath [0x77657A6E+238]\n"
     ]
    }
   ],
   "source": [
    "# Scraper based on https://github.com/rohan-benjamin/Glassdoor-Scraper-Final.git\n",
    "def fetch_jobs(keyword, num_pages):\n",
    "    options = Options()\n",
    "    options.add_argument(\"window-size=1920,1080\")\n",
    "    #Enter your chromedriver.exe path below\n",
    "    chrome_path = r\".\\chromedriver.exe\"\n",
    "    driver = webdriver.Chrome(executable_path=chrome_path, options=options)\n",
    "    driver.get(\"https://www.glassdoor.co.in/Job/Home/recentActivity.htm\")\n",
    "    search_input = driver.find_element(\"id\",\"sc.keyword\")\n",
    "    search_input.send_keys(keyword)\n",
    "    search_input.send_keys(Keys.ENTER)\n",
    "    time.sleep(2)\n",
    "    \n",
    "    company_name = []\n",
    "    job_title = []\n",
    "    salary_est = []\n",
    "    location = []\n",
    "    job_description = []\n",
    "    salary_estimate = []\n",
    "    company_size = []\n",
    "    company_type = []\n",
    "    company_sector = []\n",
    "    company_industry = []\n",
    "    company_founded = []\n",
    "    company_revenue = []\n",
    "    \n",
    "    #Set current page to 1\n",
    "    current_page = 1     \n",
    "    time.sleep(3)\n",
    "    \n",
    "    while current_page <= num_pages:   \n",
    "        \n",
    "        done = False\n",
    "        while not done:\n",
    "            job_cards = driver.find_elements(\"xpath\",\"//article[@id='MainCol']//ul/li[@data-adv-type='GENERAL']\")\n",
    "            for card in job_cards:\n",
    "                try: \n",
    "                    card.click()\n",
    "                    time.sleep(1)\n",
    "                except:\n",
    "                    continue\n",
    "\n",
    "                #Closes the signup prompt\n",
    "                try:\n",
    "                    driver.find_element(\"xpath\",\".//span[@class='SVGInline modal_closeIcon']\").click()\n",
    "                    time.sleep(2)\n",
    "                except (NoSuchElementException, ElementClickInterceptedException):\n",
    "                    time.sleep(2)\n",
    "                    pass\n",
    "\n",
    "                #Expands the Description section by clicking on Show More\n",
    "                try:\n",
    "                    driver.find_element(\"xpath\",\"//div[@class='css-t3xrds e856ufb2']\").click()\n",
    "                    time.sleep(1)\n",
    "                except NoSuchElementException:\n",
    "                    card.click()\n",
    "                    print(str(current_page) + '#ERROR: no such element')\n",
    "                    time.sleep(30)\n",
    "                    driver.find_element(\"xpath\",\"//div[@class='css-t3xrds e856ufb2']\").click()\n",
    "                except ElementNotInteractableException:\n",
    "                    card.click()\n",
    "                    driver.implicitly_wait(30)\n",
    "                    print(str(current_page) + '#ERROR: not interactable')\n",
    "                    driver.find_element(\"xpath\",\"//div[@class='css-t3xrds e856ufb2']\").click()\n",
    "\n",
    "                #Scrape \n",
    "\n",
    "                try:\n",
    "                    company_name.append(driver.find_element(\"xpath\",\"//div[@class='css-xuk5ye e1tk4kwz5']\").text)\n",
    "                except:\n",
    "                    company_name.append(\"#N/A\")\n",
    "                    pass\n",
    "\n",
    "                try:\n",
    "                    job_title.append(driver.find_element(\"xpath\",\"//div[@class='css-1j389vi e1tk4kwz2']\").text)\n",
    "                except:\n",
    "                    job_title.append(\"#N/A\")\n",
    "                    pass\n",
    "\n",
    "                try:\n",
    "                    location.append(driver.find_element(\"xpath\",\"//div[@class='css-56kyx5 e1tk4kwz1']\").text)\n",
    "                except:\n",
    "                    location.append(\"#N/A\")\n",
    "                    pass\n",
    "\n",
    "                try:\n",
    "                    job_description.append(driver.find_element(\"xpath\",\"//div[@id='JobDescriptionContainer']\").text)\n",
    "                except:\n",
    "                    job_description.append(\"#N/A\")\n",
    "                    pass\n",
    "\n",
    "                try:\n",
    "                    salary_estimate.append(driver.find_element(\"xpath\",\"//div[@class='css-y2jiyn e2u4hf18']\").text)\n",
    "                except:\n",
    "                    salary_estimate.append(\"#N/A\")\n",
    "                    pass\n",
    "                \n",
    "                try:\n",
    "                    company_size.append(driver.find_element(\"xpath\",\"//div[@id='CompanyContainer']//span[text()='Size']//following-sibling::*\").text)\n",
    "                except:\n",
    "                    company_size.append(\"#N/A\")\n",
    "                    pass\n",
    "                \n",
    "                try:\n",
    "                    company_type.append(driver.find_element(\"xpath\",\"//div[@id='CompanyContainer']//span[text()='Type']//following-sibling::*\").text)\n",
    "                except:\n",
    "                    company_type.append(\"#N/A\")\n",
    "                    pass\n",
    "                    \n",
    "                try:\n",
    "                    company_sector.append(driver.find_element(\"xpath\",\"//div[@id='CompanyContainer']//span[text()='Sector']//following-sibling::*\").text)\n",
    "                except:\n",
    "                    company_sector.append(\"#N/A\")\n",
    "                    pass\n",
    "                    \n",
    "                try:\n",
    "                    company_industry.append(driver.find_element(\"xpath\",\"//div[@id='CompanyContainer']//span[text()='Industry']//following-sibling::*\").text)\n",
    "                except:\n",
    "                    company_industry.append(\"#N/A\")\n",
    "                    pass\n",
    "                    \n",
    "                try:\n",
    "                    company_founded.append(driver.find_element(\"xpath\",\"//div[@id='CompanyContainer']//span[text()='Founded']//following-sibling::*\").text)\n",
    "                except:\n",
    "                    company_founded.append(\"#N/A\")\n",
    "                    pass\n",
    "                    \n",
    "                try:\n",
    "                    company_revenue.append(driver.find_element(\"xpath\",\"//div[@id='CompanyContainer']//span[text()='Revenue']//following-sibling::*\").text)\n",
    "                except:\n",
    "                    company_revenue.append(\"#N/A\")\n",
    "                    pass\n",
    "                    \n",
    "                done = True\n",
    "                \n",
    "       # Moves to the next page         \n",
    "        if done:\n",
    "            print(str(current_page) + ' ' + 'out of' +' '+ str(num_pages) + ' ' + 'pages done')\n",
    "            driver.find_element(\"xpath\",\"//span[@alt='next-icon']\").click()   \n",
    "            current_page = current_page + 1\n",
    "            time.sleep(4)\n",
    "\n",
    "    driver.close()\n",
    "    df = pd.DataFrame({'company': company_name, \n",
    "    'job title': job_title,\n",
    "    'location': location,\n",
    "    'job description': job_description,\n",
    "    'salary estimate': salary_estimate,\n",
    "    'company_size': company_size,\n",
    "    'company_type': company_type,\n",
    "    'company_sector': company_sector,\n",
    "    'company_industry' : company_industry, 'company_founded' : company_founded, 'company_revenue': company_revenue})\n",
    "    df.head(10)\n",
    "    df.to_csv(keyword + '.csv')            \n",
    "                     \n",
    "fetch_jobs(\"Data Engineer\", 1)"
   ]
  },
  {
   "cell_type": "markdown",
   "id": "43558919",
   "metadata": {},
   "source": [
    "By using NLP methods, we could extract opinions about a companies Work/Life balance, culture and values, salaries, ...\n",
    "Example: https://towardsdatascience.com/what-your-employees-are-saying-online-about-you-text-mining-using-python-72fe2a9bd615\n",
    "\n",
    "![alt text](sc2.png \"Title\")"
   ]
  },
  {
   "cell_type": "markdown",
   "id": "366d0707",
   "metadata": {},
   "source": [
    "## Stepstone API"
   ]
  },
  {
   "cell_type": "markdown",
   "id": "6e328299",
   "metadata": {},
   "source": [
    "Stepstone also does not have a public programming API, but can be extracted with mentioned Python libraries. Possible approach: http://datalab.bui.haw-hamburg.de/projects/project_01/BA_Wardatzky_Kathrin_161107.pdf"
   ]
  },
  {
   "cell_type": "markdown",
   "id": "11941b0e",
   "metadata": {},
   "source": [
    "## Kununu API"
   ]
  },
  {
   "cell_type": "markdown",
   "id": "a2faf6ff",
   "metadata": {},
   "source": [
    "Kununu does have an API, but intended to be used by companies (not for free). There is one tool to specifically scrape kununu company reviews: https://github.com/TheWoops/Web-Scraping.git\n",
    "The test was successful, but it requires some training to understand how to use it. Kununu can also be scaped with mentioned Python libraries."
   ]
  },
  {
   "cell_type": "markdown",
   "id": "708ac865",
   "metadata": {},
   "source": [
    "## Bundesbank API"
   ]
  },
  {
   "cell_type": "markdown",
   "id": "01d4a6d6",
   "metadata": {},
   "source": [
    "The \"Deutsche Bundesbank\" offers current statistical data of the Bundesbank in the form of time series and real-time data: https://www.bundesbank.de/en/statistics/time-series-databases\n",
    "This could provide relevant macroeconomic information, e.g.:\n",
    "![alt text](sc.png \"Title\")\n"
   ]
  },
  {
   "cell_type": "markdown",
   "id": "0abeaa1a",
   "metadata": {},
   "source": [
    "## LinkedIn API"
   ]
  },
  {
   "cell_type": "markdown",
   "id": "26117839",
   "metadata": {},
   "source": [
    "One can download LinkedIn connections and other data to analyze interests of employees: https://towardsdatascience.com/mining-data-on-linkedin-9b70681b1467"
   ]
  },
  {
   "cell_type": "markdown",
   "id": "c5dd5cbd",
   "metadata": {},
   "source": [
    "## Jobfeed API"
   ]
  },
  {
   "cell_type": "markdown",
   "id": "3bef7ad0",
   "metadata": {},
   "source": [
    "Jobfeed offers a oublic API for developers to gather data (https://www.jobfeed.de/api/v3/help). They collect real-time job market data specifically for HR purposes. Accounts are limited to 4 requests/second and 30 requests/minute."
   ]
  },
  {
   "cell_type": "markdown",
   "id": "8f079892",
   "metadata": {},
   "source": [
    "## Google datasets"
   ]
  },
  {
   "cell_type": "markdown",
   "id": "ae5e20a6",
   "metadata": {},
   "source": [
    "Number of datasets for different areas of research: https://datasetsearch.research.google.com/"
   ]
  },
  {
   "cell_type": "markdown",
   "id": "8f894f30",
   "metadata": {},
   "source": [
    "## Scrapingrobot API"
   ]
  },
  {
   "cell_type": "markdown",
   "id": "f608cfe8",
   "metadata": {},
   "source": [
    "Up to 5000 scraping requests per month: https://docs.scrapingrobot.com/reference/basic-usage?_ga=2.74448466.1796286644.1662903980-1566943732.1662903980"
   ]
  },
  {
   "cell_type": "markdown",
   "id": "104711e0",
   "metadata": {},
   "source": [
    "## Indeed API"
   ]
  },
  {
   "cell_type": "markdown",
   "id": "304668d1",
   "metadata": {},
   "source": [
    "Scrapable using Python libraries: https://www.pycodemates.com/2022/01/Indeed-jobs-scraping-with-python-bs4-selenium-and-pandas.html"
   ]
  },
  {
   "cell_type": "code",
   "execution_count": 52,
   "id": "5dab1556",
   "metadata": {},
   "outputs": [
    {
     "name": "stdout",
     "output_type": "stream",
     "text": [
      "https://in.indeed.com/jobs?q=Data%20Scientist&l=Bengaluru&from=searchOnHP&vjk=1f2f17aad584b2c7\n"
     ]
    },
    {
     "data": {
      "text/html": [
       "<div>\n",
       "<style scoped>\n",
       "    .dataframe tbody tr th:only-of-type {\n",
       "        vertical-align: middle;\n",
       "    }\n",
       "\n",
       "    .dataframe tbody tr th {\n",
       "        vertical-align: top;\n",
       "    }\n",
       "\n",
       "    .dataframe thead th {\n",
       "        text-align: right;\n",
       "    }\n",
       "</style>\n",
       "<table border=\"1\" class=\"dataframe\">\n",
       "  <thead>\n",
       "    <tr style=\"text-align: right;\">\n",
       "      <th></th>\n",
       "    </tr>\n",
       "  </thead>\n",
       "  <tbody>\n",
       "  </tbody>\n",
       "</table>\n",
       "</div>"
      ],
      "text/plain": [
       "Empty DataFrame\n",
       "Columns: []\n",
       "Index: []"
      ]
     },
     "execution_count": 52,
     "metadata": {},
     "output_type": "execute_result"
    }
   ],
   "source": [
    "def get_current_url(url, job_title, location):\n",
    "    driver = webdriver.Chrome()\n",
    "    driver.get(url)\n",
    "    time.sleep(3)\n",
    "    driver.find_element('xpath','//*[@id=\"text-input-what\"]').send_keys(job_title)\n",
    "    time.sleep(3)\n",
    "    driver.find_element('xpath','//*[@id=\"text-input-where\"]').send_keys(location)\n",
    "    time.sleep(3)\n",
    "    driver.find_element('xpath','/html/body/div').click()\n",
    "    time.sleep(3)\n",
    "    try:\n",
    "        driver.find_element('xpath','//*[@id=\"jobsearch\"]/button').click()\n",
    "    except:\n",
    "        driver.find_element('xpath','//*[@id=\"whatWhereFormId\"]/div[3]/button').click()\n",
    "    current_url = driver.current_url\n",
    "\n",
    "    return current_url \n",
    "\n",
    "current_url = get_current_url('https://in.indeed.com/','Data Scientist',\"Bengaluru\")\n",
    "print(current_url)\n",
    "\n",
    "def scrape_job_details(url):\n",
    "    \n",
    "    \n",
    "    resp = requests.get(url)\n",
    "    content = BeautifulSoup(resp.content, 'lxml')\n",
    "   \n",
    "    jobs_list = []    \n",
    "    for post in content.select('.job_seen_beacon'):\n",
    "        print(post)\n",
    "        try:\n",
    "            data = {\n",
    "                \"job_title\":post.select('.jobTitle')[0].get_text().strip(),\n",
    "                \"company\":post.select('.companyName')[0].get_text().strip(),\n",
    "                \"rating\":post.select('.ratingNumber')[0].get_text().strip(),\n",
    "                \"location\":post.select('.companyLocation')[0].get_text().strip(),\n",
    "                \"date\":post.select('.date')[0].get_text().strip(),\n",
    "                \"job_desc\":post.select('.job-snippet')[0].get_text().strip()\n",
    "                \n",
    "            }\n",
    "        except IndexError:\n",
    "            continue          \n",
    "        jobs_list.append(data)\n",
    "    dataframe = pd.DataFrame(jobs_list)\n",
    "    \n",
    "    return dataframe\n",
    "\n",
    "scrape_job_details(current_url)"
   ]
  },
  {
   "cell_type": "markdown",
   "id": "f4d0d7c0",
   "metadata": {},
   "source": [
    "## Gehalt.de"
   ]
  },
  {
   "cell_type": "markdown",
   "id": "d1253579",
   "metadata": {},
   "source": [
    "https://www.gehalt.de/gehaltsvergleich"
   ]
  }
 ],
 "metadata": {
  "kernelspec": {
   "display_name": "venv",
   "language": "python",
   "name": "venv"
  },
  "language_info": {
   "codemirror_mode": {
    "name": "ipython",
    "version": 3
   },
   "file_extension": ".py",
   "mimetype": "text/x-python",
   "name": "python",
   "nbconvert_exporter": "python",
   "pygments_lexer": "ipython3",
   "version": "3.10.7"
  }
 },
 "nbformat": 4,
 "nbformat_minor": 5
}
